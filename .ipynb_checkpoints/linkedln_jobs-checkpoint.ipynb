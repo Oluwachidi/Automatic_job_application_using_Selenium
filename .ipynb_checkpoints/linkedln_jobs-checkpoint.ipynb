{
 "cells": [
  {
   "cell_type": "code",
   "execution_count": 2,
   "id": "5aab1d54",
   "metadata": {},
   "outputs": [
    {
     "name": "stdout",
     "output_type": "stream",
     "text": [
      "Collecting selenium\n",
      "  Downloading selenium-4.1.0-py3-none-any.whl (958 kB)\n",
      "     |████████████████████████████████| 958 kB 2.8 MB/s            \n",
      "\u001b[?25hRequirement already satisfied: urllib3[secure]~=1.26 in /home/chidi/.pyenv/versions/3.8.6/envs/lewagon/lib/python3.8/site-packages (from selenium) (1.26.6)\n",
      "Collecting trio~=0.17\n",
      "  Downloading trio-0.19.0-py3-none-any.whl (356 kB)\n",
      "     |████████████████████████████████| 356 kB 2.2 MB/s            \n",
      "\u001b[?25hCollecting trio-websocket~=0.9\n",
      "  Downloading trio_websocket-0.9.2-py3-none-any.whl (16 kB)\n",
      "Requirement already satisfied: attrs>=19.2.0 in /home/chidi/.pyenv/versions/3.8.6/envs/lewagon/lib/python3.8/site-packages (from trio~=0.17->selenium) (21.2.0)\n",
      "Collecting sortedcontainers\n",
      "  Downloading sortedcontainers-2.4.0-py2.py3-none-any.whl (29 kB)\n",
      "Collecting outcome\n",
      "  Downloading outcome-1.1.0-py2.py3-none-any.whl (9.7 kB)\n",
      "Requirement already satisfied: async-generator>=1.9 in /home/chidi/.pyenv/versions/3.8.6/envs/lewagon/lib/python3.8/site-packages (from trio~=0.17->selenium) (1.10)\n",
      "Requirement already satisfied: idna in /home/chidi/.pyenv/versions/3.8.6/envs/lewagon/lib/python3.8/site-packages (from trio~=0.17->selenium) (2.10)\n",
      "Requirement already satisfied: sniffio in /home/chidi/.pyenv/versions/3.8.6/envs/lewagon/lib/python3.8/site-packages (from trio~=0.17->selenium) (1.2.0)\n",
      "Collecting wsproto>=0.14\n",
      "  Downloading wsproto-1.0.0-py3-none-any.whl (24 kB)\n",
      "Requirement already satisfied: certifi in /home/chidi/.pyenv/versions/3.8.6/envs/lewagon/lib/python3.8/site-packages (from urllib3[secure]~=1.26->selenium) (2021.5.30)\n",
      "Collecting pyOpenSSL>=0.14\n",
      "  Downloading pyOpenSSL-21.0.0-py2.py3-none-any.whl (55 kB)\n",
      "     |████████████████████████████████| 55 kB 189 kB/s             \n",
      "\u001b[?25hRequirement already satisfied: cryptography>=1.3.4 in /home/chidi/.pyenv/versions/3.8.6/envs/lewagon/lib/python3.8/site-packages (from urllib3[secure]~=1.26->selenium) (3.4.7)\n",
      "Requirement already satisfied: cffi>=1.12 in /home/chidi/.pyenv/versions/3.8.6/envs/lewagon/lib/python3.8/site-packages (from cryptography>=1.3.4->urllib3[secure]~=1.26->selenium) (1.14.5)\n",
      "Requirement already satisfied: six>=1.5.2 in /home/chidi/.pyenv/versions/3.8.6/envs/lewagon/lib/python3.8/site-packages (from pyOpenSSL>=0.14->urllib3[secure]~=1.26->selenium) (1.14.0)\n",
      "Requirement already satisfied: h11<1,>=0.9.0 in /home/chidi/.pyenv/versions/3.8.6/envs/lewagon/lib/python3.8/site-packages (from wsproto>=0.14->trio-websocket~=0.9->selenium) (0.12.0)\n",
      "Requirement already satisfied: pycparser in /home/chidi/.pyenv/versions/3.8.6/envs/lewagon/lib/python3.8/site-packages (from cffi>=1.12->cryptography>=1.3.4->urllib3[secure]~=1.26->selenium) (2.20)\n",
      "Installing collected packages: sortedcontainers, outcome, wsproto, trio, pyOpenSSL, trio-websocket, selenium\n",
      "Successfully installed outcome-1.1.0 pyOpenSSL-21.0.0 selenium-4.1.0 sortedcontainers-2.4.0 trio-0.19.0 trio-websocket-0.9.2 wsproto-1.0.0\n"
     ]
    }
   ],
   "source": [
    "!pip install selenium"
   ]
  },
  {
   "cell_type": "code",
   "execution_count": 3,
   "id": "8726ec0d",
   "metadata": {},
   "outputs": [],
   "source": [
    "from selenium import webdriver\n",
    "from selenium.webdriver.common.keys import Keys\n",
    "import time"
   ]
  },
  {
   "cell_type": "code",
   "execution_count": 4,
   "id": "65e57c84",
   "metadata": {},
   "outputs": [],
   "source": [
    "ACCOUNT_EMAIL = \"olufavour4u2go@gmail.com\"\n",
    "ACCOUNT_PASSWORD = \"xxxxxxx\"\n",
    "URL = \"https://www.linkedin.com/jobs/search/?f_AL=true&f_JT=F%2CP%2CC&f_PP=100761630%2C103366113%2C101728226%2C105829038%2C102199904%2C106535873%2C103148075&f_WT=1%2C2%2C3&geoId=101174742&keywords=drafter%20autocad&location=Canada&sortBy=R\""
   ]
  },
  {
   "cell_type": "code",
   "execution_count": 6,
   "id": "94793ee7",
   "metadata": {},
   "outputs": [],
   "source": [
    "chrome_driver_path = \"C:\\development\\chromedriver.exe\"\n",
    "driver = webdriver.Chrome(chrome_driver_path)\n",
    "driver.get(URL)"
   ]
  },
  {
   "cell_type": "code",
   "execution_count": 7,
   "id": "0e2a20d1",
   "metadata": {},
   "outputs": [],
   "source": [
    "sign_in_button = driver.find_element_by_link_text(\"Sign in\")\n",
    "sign_in_button.click()\n",
    "\n",
    "# Wait for the next page to load.\n",
    "time.sleep(5)"
   ]
  },
  {
   "cell_type": "code",
   "execution_count": 8,
   "id": "0cba7e9e",
   "metadata": {},
   "outputs": [],
   "source": [
    "email_field = driver.find_element_by_id(\"username\")\n",
    "email_field.send_keys(ACCOUNT_EMAIL)\n",
    "password_field = driver.find_element_by_id(\"password\")\n",
    "password_field.send_keys(ACCOUNT_PASSWORD)\n",
    "password_field.send_keys(Keys.ENTER)"
   ]
  },
  {
   "cell_type": "code",
   "execution_count": 9,
   "id": "d42ea505",
   "metadata": {},
   "outputs": [],
   "source": [
    "driver.close()"
   ]
  }
 ],
 "metadata": {
  "kernelspec": {
   "display_name": "Python 3 (ipykernel)",
   "language": "python",
   "name": "python3"
  },
  "language_info": {
   "codemirror_mode": {
    "name": "ipython",
    "version": 3
   },
   "file_extension": ".py",
   "mimetype": "text/x-python",
   "name": "python",
   "nbconvert_exporter": "python",
   "pygments_lexer": "ipython3",
   "version": "3.8.6"
  },
  "toc": {
   "base_numbering": 1,
   "nav_menu": {},
   "number_sections": true,
   "sideBar": true,
   "skip_h1_title": false,
   "title_cell": "Table of Contents",
   "title_sidebar": "Contents",
   "toc_cell": false,
   "toc_position": {},
   "toc_section_display": true,
   "toc_window_display": false
  }
 },
 "nbformat": 4,
 "nbformat_minor": 5
}
